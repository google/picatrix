{
  "nbformat": 4,
  "nbformat_minor": 0,
  "metadata": {
    "colab": {
      "name": "adding_magic.ipynb",
      "provenance": [],
      "private_outputs": true,
      "authorship_tag": "ABX9TyMNqvpugAPhDO8vhEebjuY4",
      "include_colab_link": true
    },
    "kernelspec": {
      "name": "python3",
      "display_name": "Python 3"
    }
  },
  "cells": [
    {
      "cell_type": "markdown",
      "metadata": {
        "id": "view-in-github",
        "colab_type": "text"
      },
      "source": [
        "<a href=\"https://colab.research.google.com/github/google/picatrix/blob/main/notebooks/adding_magic.ipynb\" target=\"_parent\"><img src=\"https://colab.research.google.com/assets/colab-badge.svg\" alt=\"Open In Colab\"/></a>"
      ]
    },
    {
      "cell_type": "markdown",
      "metadata": {
        "id": "gggtpdmgZzi7"
      },
      "source": [
        "# Adding A Magic\n",
        "\n",
        "This notebook describes how to add a magic or register a function into the picatrix set of magics.\n",
        "\n",
        "## Import\n",
        "\n",
        "The first thing to do is install the picatrix framework and then import the libraries\n",
        "\n",
        "(only need to install if you are running a colab hosted kernel)"
      ]
    },
    {
      "cell_type": "code",
      "metadata": {
        "id": "1ZmkwahOaVa6"
      },
      "source": [
        "#@title Only execute if you are connecting to a hosted kernel\n",
        "!pip install picatrix"
      ],
      "execution_count": null,
      "outputs": []
    },
    {
      "cell_type": "code",
      "metadata": {
        "id": "QZdMGQAuZwxp"
      },
      "source": [
        "from picatrix.lib import framework\n",
        "from picatrix.lib import utils\n",
        "\n",
        "# This should not be included in the magic definition file, only used\n",
        "# in this notebook since we are comparing all magic registration.\n",
        "from picatrix import notebook_init\n",
        "\n",
        "notebook_init.init()"
      ],
      "execution_count": null,
      "outputs": []
    },
    {
      "cell_type": "markdown",
      "metadata": {
        "id": "1kh5DfHzaDxt"
      },
      "source": [
        "Then we need to create a function:"
      ]
    },
    {
      "cell_type": "code",
      "metadata": {
        "id": "OeOmXWPhaGKW"
      },
      "source": [
        "from typing import Optional\n",
        "from typing import Text\n",
        "\n",
        "@framework.picatrix_magic\n",
        "def my_silly_magic(data: Text, magnitude: Optional[int] = 100) -> Text:\n",
        "  \"\"\"Return a silly string with no meaningful value.\n",
        "\n",
        "  Args:\n",
        "    data (str): This is a string that will be printed back.\n",
        "    magnitude (int): A number that will be displayed in the string.\n",
        "\n",
        "  Returns:\n",
        "    A string that basically combines the two options.\n",
        "  \"\"\" \n",
        "  return f'This magical magic produced {magnitude} magics of {data.strip()}'"
      ],
      "execution_count": null,
      "outputs": []
    },
    {
      "cell_type": "markdown",
      "metadata": {
        "id": "AXdg1ah-ayBH"
      },
      "source": [
        "In order to register a magic it has to have few properties:\n",
        "\n",
        "1. Be a regular Python function that accepts parameters (optional if it returns a value)\n",
        "2. The first argument it must accept is `data` (this is due to how magics work). If you don't need an argument, set the default value of `data` to an empty string.\n",
        "3. Use typing to denote the type of the argument values.\n",
        "4. The function must include a docstring, where the first line describes the function.\n",
        "5. The docstring also must have an argument section, where each argument is further described (this is used to generate the helpstring for the magic/function).\n",
        "6. If the function returns a value it must define a Returns section.\n",
        "\n",
        "Once these requirements are fulfilled, a simple decorator is all that is required to register the magic and make sure it is available.\n",
        "\n",
        "## Test the Magic\n",
        "\n",
        "Now once the magic has been registered we can first test to see if it is registered:"
      ]
    },
    {
      "cell_type": "code",
      "metadata": {
        "id": "w-CqWQyCTj3t"
      },
      "source": [
        "%picatrixmagics"
      ],
      "execution_count": null,
      "outputs": []
    },
    {
      "cell_type": "markdown",
      "metadata": {
        "id": "0eEIt9KjTk_V"
      },
      "source": [
        "This does produce quite a lot of values, let's filter it out:"
      ]
    },
    {
      "cell_type": "code",
      "metadata": {
        "id": "2QAcImyzTm_C"
      },
      "source": [
        "magics = %picatrixmagics\n",
        "\n",
        "magics[magics.name.str.contains('silly_magic')]"
      ],
      "execution_count": null,
      "outputs": []
    },
    {
      "cell_type": "markdown",
      "metadata": {
        "id": "IQ2kVmB4UFPE"
      },
      "source": [
        "OK, we can see that it is registered. Now let's try to call it:"
      ]
    },
    {
      "cell_type": "code",
      "metadata": {
        "id": "b87RuDZAah8G"
      },
      "source": [
        "%my_silly_magic foobar"
      ],
      "execution_count": null,
      "outputs": []
    },
    {
      "cell_type": "markdown",
      "metadata": {
        "id": "UH9WIGKSUIye"
      },
      "source": [
        "And check out it's help message:"
      ]
    },
    {
      "cell_type": "code",
      "metadata": {
        "id": "VVlg7pzfUKIo"
      },
      "source": [
        "%my_silly_magic --help"
      ],
      "execution_count": null,
      "outputs": []
    },
    {
      "cell_type": "markdown",
      "metadata": {
        "id": "GmSQRYmhUMXi"
      },
      "source": [
        "Here you can see the results from the docstring being used to generate the help for the magic.\n",
        "\n",
        "Now use the call magic:"
      ]
    },
    {
      "cell_type": "code",
      "metadata": {
        "id": "SRvCRD6Sa3gN"
      },
      "source": [
        "%%my_silly_magic \n",
        "this is some text\n",
        "and some more text\n",
        "and yet even more"
      ],
      "execution_count": null,
      "outputs": []
    },
    {
      "cell_type": "markdown",
      "metadata": {
        "id": "qx0GemDwUT9l"
      },
      "source": [
        "And set the arguments:"
      ]
    },
    {
      "cell_type": "code",
      "metadata": {
        "id": "dqMfcC90a6zC"
      },
      "source": [
        "%%my_silly_magic --magnitude 234 store_here\n",
        "and here is the text"
      ],
      "execution_count": null,
      "outputs": []
    },
    {
      "cell_type": "code",
      "metadata": {
        "id": "NhvbYDmAa-46"
      },
      "source": [
        "store_here"
      ],
      "execution_count": null,
      "outputs": []
    },
    {
      "cell_type": "markdown",
      "metadata": {
        "id": "yGQnPiNzUXZo"
      },
      "source": [
        "And finally we can use the exposed function:"
      ]
    },
    {
      "cell_type": "code",
      "metadata": {
        "id": "R1GQp1TXa_1y"
      },
      "source": [
        "my_silly_magic_func?"
      ],
      "execution_count": null,
      "outputs": []
    },
    {
      "cell_type": "code",
      "metadata": {
        "id": "a5HobRkoUak7"
      },
      "source": [
        "my_silly_magic_func('some random string', magnitude=234)"
      ],
      "execution_count": null,
      "outputs": []
    },
    {
      "cell_type": "code",
      "metadata": {
        "id": "rIgdH_g5UeMM"
      },
      "source": [
        ""
      ],
      "execution_count": null,
      "outputs": []
    }
  ]
}
