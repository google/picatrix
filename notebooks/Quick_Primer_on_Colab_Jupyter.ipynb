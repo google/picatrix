{
  "nbformat": 4,
  "nbformat_minor": 0,
  "metadata": {
    "colab": {
      "name": "Quick Primer on Colab/Jupyter.ipynb",
      "provenance": [],
      "private_outputs": true,
      "collapsed_sections": [],
      "toc_visible": true,
      "authorship_tag": "ABX9TyMg1tN2ssy5TnYuMCl5RelY",
      "include_colab_link": true
    },
    "kernelspec": {
      "name": "python3",
      "display_name": "Python 3"
    }
  },
  "cells": [
    {
      "cell_type": "markdown",
      "metadata": {
        "id": "view-in-github",
        "colab_type": "text"
      },
      "source": [
        "<a href=\"https://colab.research.google.com/github/google/picatrix/blob/main/notebooks/Quick_Primer_on_Colab_Jupyter.ipynb\" target=\"_parent\"><img src=\"https://colab.research.google.com/assets/colab-badge.svg\" alt=\"Open In Colab\"/></a>"
      ]
    },
    {
      "cell_type": "markdown",
      "metadata": {
        "id": "AE95Ki_LDQsi"
      },
      "source": [
        "# Quick Primer\n",
        "\n",
        "This notebook is supposed to a quick primer on what colab/jupyter notebooks are.\n",
        "\n",
        "Large part of working in a notebook is to work with a python data structure called [pandas](https://pandas.pydata.org/). This notebook is supposed to give you short examples to do simple introductions to this data structure.\n",
        "\n",
        "A good first step is to watch this [short 10 minute introduction video](https://www.youtube.com/watch?v=_T8LGqJtuGc)\n",
        "\n",
        "For additional reading see among others:\n",
        "  + https://towardsdatascience.com/pandas-series-a-lightweight-intro-b7963a0d62a2\n",
        "  + [Python for Data Analysis book](https://books.google.com/books?id=UWlo-c4WEpAC)\n",
        "  + [Python Data Science Handbook](https://books.google.com/books?id=6omNDQAAQBAJ)\n"
      ]
    },
    {
      "cell_type": "markdown",
      "metadata": {
        "id": "ndiBmA2NGX3M"
      },
      "source": [
        "## Introduction\n",
        "\n",
        "We are going to be using python as the programming language. What python is, how it works, etc, is outside the scope of this tutorial. There are plenty of much better tutorials that you can find online that explain that.\n",
        "\n",
        "Python is an interpreted language, with the python interpreter executing one statement at a time. For data science, and for the purposes here we use IPython, which is an enhanced python interpreter. You can run this intepreter many ways, including by using Jupyter or Colab. Jupyter and Colab have a web based interface to run Python code in a notebook, which this here is. A notebook is a type of interactive document for code. It is a mix of text cells and code cells, where the text can be formatted in markdown and the code depends on the interpreter that is attached to it (here we will use python).\n",
        "\n",
        "### Jupyter\n",
        "\n",
        "One of the easiest ways to run and install Jupyter is to use a virtual environment in python, which creates a separate Python environment where you can install libraries.\n",
        "\n",
        "On a Debian Linux system you can run:\n",
        "\n",
        "```shell\n",
        "$ sudo apt-get install python3-venv\n",
        "$ python3 -m venv jupyter_env\n",
        "$ source jupyter_env/bin/activate\n",
        "```\n",
        "\n",
        "This will setup the environment, next up is to install dependencies. These will depend on what you are going to be using this for, etc. For a basic setup\n",
        "you can install these:\n",
        "\n",
        "```shell\n",
        "$ pip install jupyter altair vega-datasets vega pandas jupyter_http_over_ws wheel\n",
        "$ jupyter serverextension enable --py jupyter_http_over_ws\n",
        "```\n",
        "\n",
        "Now you can run jupyter using the command:\n",
        "\n",
        "```shell\n",
        "$ jupyter notebook\n",
        "```\n",
        "\n",
        "This should automatically open up a web page in your browser window with the Jupyter interface. If not you can navigate to `http://localhost:8888`\n",
        "\n",
        "To be able to run this notebook in Jupyter you can simply choose \"File | Download .ipynb\", save the file in the same directory as you started Jupyter and you should see it in the list (might need to refresh the Jupyter browser window)\n",
        "\n",
        "### Colab\n",
        "\n",
        "For colab you can simply visit the notebook in [colab's site](https://colab.research.google.com) and click `connect`. The disclaimer here is that it requires you to have an active Google account. All you then have to do is to click the button in the upper right corner that says \"`Connect`\" and you can start running the code here.\n",
        "\n",
        "You can also have a mixed environment where you have your own Jupyter kernel\n",
        "running but using Colab as the frontent, for that you can follow the [instructions here](https://research.google.com/colaboratory/local-runtimes.html) or start the Jupyter notebook using this command:\n",
        "\n",
        "```shell\n",
        "$ jupyter notebook \\\n",
        "  --NotebookApp.allow_origin='https://colab.research.google.com' \\\n",
        "  --port=8888 \\\n",
        "  --NotebookApp.port_retries=0\n",
        "```\n",
        "\n",
        "Take a note of the authentication URL that appears when running the notebook, it should look something like this:\n",
        "\n",
        "```\n",
        "[I 14:39:29.255 NotebookApp] Serving notebooks from local directory: <PATH>\n",
        "[I 14:39:29.255 NotebookApp] Jupyter Notebook <VERSION> is running at:\n",
        "[I 14:39:29.255 NotebookApp] http://localhost:8888/?token=<TOKEN>\n",
        "[I 14:39:29.255 NotebookApp]  or http://127.0.0.1:8888/?token=<TOKEN>\n",
        "[I 14:39:29.255 NotebookApp] Use Control-C to stop this server and shut down all kernels (twice to skip confirmation).\n",
        "[C 14:39:29.364 NotebookApp] \n",
        " \n",
        "    To access the notebook, open this file in a browser:\n",
        "...\n",
        "    Or copy and paste one of these URLs:\n",
        "        http://localhost:8888/?token=<TOKEN>\n",
        "     or http://127.0.0.1:8888/?token=<TOKEN>\n",
        "```\n",
        "\n",
        "\n",
        "Copy the URL That looks like this: “http://localhost:8888/?token=<TOKEN>”. Then click the link for the colab, in the upper right corner click the small triangle and select “Connect to local runtime”"
      ]
    },
    {
      "cell_type": "markdown",
      "metadata": {
        "id": "98kJixb4Sd8N"
      },
      "source": [
        "## Start"
      ]
    },
    {
      "cell_type": "markdown",
      "metadata": {
        "id": "KO7ptTMTdaKf"
      },
      "source": [
        "The first thing we want to do is to install the picatrix library (if we are running this on a cloud instance, can skip if it is already installed)"
      ]
    },
    {
      "cell_type": "code",
      "metadata": {
        "id": "rCRIzPZjde9x"
      },
      "source": [
        "!pip install picatrix"
      ],
      "execution_count": null,
      "outputs": []
    },
    {
      "cell_type": "markdown",
      "metadata": {
        "id": "oyqwl3GUFoaw"
      },
      "source": [
        "But let's start to import the two libraries that we will be using throghout, pandas and numpy."
      ]
    },
    {
      "cell_type": "code",
      "metadata": {
        "id": "t92IYKJYBTbx"
      },
      "source": [
        "import numpy as np\n",
        "import pandas as pd"
      ],
      "execution_count": null,
      "outputs": []
    },
    {
      "cell_type": "markdown",
      "metadata": {
        "id": "7Db7vURUFurm"
      },
      "source": [
        "You will see this tradition of importing numpy as np and pandas as pd throughout the literature, and therefore we will stick with that here as well.\n",
        "\n",
        "One simple way to look at pandas is like a database table, where you have column and rows and then you have some operations you can do on these tables/rows.\n",
        "\n",
        "One thing to keep in mind with an IPython notebook like this is **tab completion**. In the code cells you can press the **tab** key and the namespace will be searched, try it here with the pandas library:"
      ]
    },
    {
      "cell_type": "code",
      "metadata": {
        "id": "E5kAOK0iFuDU"
      },
      "source": [
        "pd."
      ],
      "execution_count": null,
      "outputs": []
    },
    {
      "cell_type": "markdown",
      "metadata": {
        "id": "pyC0H0b6WfYM"
      },
      "source": [
        "Another useful thing you may want to be aware of is that you can also execute all regular shell commands from a notebook. If a codecell starts with `!` it will be executed in the shell, eg:"
      ]
    },
    {
      "cell_type": "code",
      "metadata": {
        "id": "cCAZ6mjJWp7i"
      },
      "source": [
        "!ls ~/ && pwd"
      ],
      "execution_count": null,
      "outputs": []
    },
    {
      "cell_type": "markdown",
      "metadata": {
        "id": "b7HekIozWbF0"
      },
      "source": [
        "This can come in handy, especially if you are running a local kernel, whether that is from a Jupyter notebook or a colab one attached to a local kernel.\n",
        "\n",
        "Another option that can come in handy is to use the `?` after a function, to get the docstring from the function (or `??` to get the code):"
      ]
    },
    {
      "cell_type": "code",
      "metadata": {
        "id": "XYNEv4VIWLja"
      },
      "source": [
        "pd.read_csv?"
      ],
      "execution_count": null,
      "outputs": []
    },
    {
      "cell_type": "markdown",
      "metadata": {
        "id": "BSeZItNeXcmZ"
      },
      "source": [
        "This is referred to as object introspection. \n",
        "\n",
        "You can also use this to find functions when you mix the use with the wildcard `*` character, such as:"
      ]
    },
    {
      "cell_type": "code",
      "metadata": {
        "id": "wv56E6cwXXzY"
      },
      "source": [
        "pd.read_*?"
      ],
      "execution_count": null,
      "outputs": []
    },
    {
      "cell_type": "markdown",
      "metadata": {
        "id": "JKXALfZDXxxp"
      },
      "source": [
        "This will produce a list of all `.read_` functions within the pandas library."
      ]
    },
    {
      "cell_type": "markdown",
      "metadata": {
        "id": "_T_TIx3VX3S4"
      },
      "source": [
        "### Magics\n",
        "\n",
        "Another feature of ipython are [magics](https://ipython.readthedocs.io/en/stable/interactive/magics.html). These are IPython's special commands that are not built into python itself. There are both built-in magics as well as user defined.\n",
        "\n",
        "Magics are identified by preprending the magic name with either `%` or `%%`, etc. An example of this would be `%run` or %paste` which takes care of running a python file inside a cell, or paste code from your clipboard.\n",
        "\n",
        "Magics are either line magics (`%`) in which parameters to the magic are all in a single line, or cell magics (`%%`) where the parameters can be defined in using multiple lines.\n",
        "\n",
        "See more information [here](https://ipython.readthedocs.io/en/stable/interactive/magics.html) or run this command:\n",
        "\n"
      ]
    },
    {
      "cell_type": "code",
      "metadata": {
        "id": "obITbhp8XnaT"
      },
      "source": [
        "%magic"
      ],
      "execution_count": null,
      "outputs": []
    },
    {
      "cell_type": "markdown",
      "metadata": {
        "id": "kkYqc6oVZZ1l"
      },
      "source": [
        "One useful built-in magic is `%timeit` to time executions of code cells, eg:"
      ]
    },
    {
      "cell_type": "code",
      "metadata": {
        "id": "JNa4enbWZe1b"
      },
      "source": [
        "%%timeit\n",
        "for index in range(0, 10):\n",
        "  _ = index * 10"
      ],
      "execution_count": null,
      "outputs": []
    },
    {
      "cell_type": "markdown",
      "metadata": {
        "id": "_rmt3f2jZl4_"
      },
      "source": [
        "This is a meaningless code, but used to demonstrate how you can time the execution of a piece of code using the `%%timeit` magic. In this case it is a cell magic, so all the code in the cell is evaluated."
      ]
    },
    {
      "cell_type": "markdown",
      "metadata": {
        "id": "dKE6Me2zaA-Z"
      },
      "source": [
        "You can also assign the output of some magics to variables using this:"
      ]
    },
    {
      "cell_type": "code",
      "metadata": {
        "id": "nLy0KEZ0aHTr"
      },
      "source": [
        "output = %pwd"
      ],
      "execution_count": null,
      "outputs": []
    },
    {
      "cell_type": "code",
      "metadata": {
        "id": "36eZeY78aJVU"
      },
      "source": [
        "output"
      ],
      "execution_count": null,
      "outputs": []
    },
    {
      "cell_type": "markdown",
      "metadata": {
        "id": "drcUoZ6KzF6x"
      },
      "source": [
        "#### Picatrix\n",
        "\n",
        "The picatrix library or package is geared towards providing analysts with a set of magics and exported python functions that are geared towards security analysis.\n",
        "\n",
        "To use the picatrix library we need to import it and then initialize, let's do that:"
      ]
    },
    {
      "cell_type": "code",
      "metadata": {
        "id": "BkKRYo99yZr_"
      },
      "source": [
        "from picatrix import notebook_init\n",
        "\n",
        "notebook_init.init()"
      ],
      "execution_count": null,
      "outputs": []
    },
    {
      "cell_type": "markdown",
      "metadata": {
        "id": "JTeihABVzTF0"
      },
      "source": [
        "To get a list of all magics that are part of the picatrix library, use the `%picatrixmagics` magic:"
      ]
    },
    {
      "cell_type": "code",
      "metadata": {
        "id": "d6n0MueFzXZC"
      },
      "source": [
        "%picatrixmagics"
      ],
      "execution_count": null,
      "outputs": []
    },
    {
      "cell_type": "markdown",
      "metadata": {
        "id": "wFFIKT2nzZYJ"
      },
      "source": [
        "Each magic is registered in the namespace in three ways:\n",
        "+ '%magic_name' - line magic\n",
        "+ '%%magic_name' - cell magic\n",
        "+ 'magic_name_func()` - a regular python function.\n",
        "\n",
        "To get further help about each magic, you can run either:\n",
        "\n",
        "```\n",
        "%magic_name --help\n",
        "```\n",
        "\n",
        "or\n",
        "\n",
        "```\n",
        "magic_name_func?\n",
        "```\n",
        "\n",
        "Let's look at an example:"
      ]
    },
    {
      "cell_type": "code",
      "metadata": {
        "id": "wFvNLCsVzvHw"
      },
      "source": [
        "%picatrixmagics --help"
      ],
      "execution_count": null,
      "outputs": []
    },
    {
      "cell_type": "markdown",
      "metadata": {
        "id": "-PQmSz-VZCLT"
      },
      "source": [
        "### Numpy and Pandas\n",
        "\n",
        "Let's talk again about numpy and pandas. numpy or Numerical Python is one of the most important fundamental libraries for numerical computing in python. This guide will not go into any details about the inner working of numpy, there are plenty of guides online that provide that if you are interested.\n",
        "\n",
        "The important part here is that numpy provides a fast C API to work with multidimensional arrays. And it contains mathematical functions to operate on entire arrays of data without requiring use of loops.\n",
        "\n",
        "#### Numpy Arrays\n",
        "\n",
        "Let's start to explore a simple numpy array."
      ]
    },
    {
      "cell_type": "code",
      "metadata": {
        "id": "LgwzncswY3Vu"
      },
      "source": [
        "arr = np.arange(10000)"
      ],
      "execution_count": null,
      "outputs": []
    },
    {
      "cell_type": "markdown",
      "metadata": {
        "id": "hSaZUMR2bUwu"
      },
      "source": [
        "Let's look at the first 10 entries in the array:"
      ]
    },
    {
      "cell_type": "code",
      "metadata": {
        "id": "1EMmGstBbQ_x"
      },
      "source": [
        "arr[:10]"
      ],
      "execution_count": null,
      "outputs": []
    },
    {
      "cell_type": "markdown",
      "metadata": {
        "id": "Szxu-Ah5bXfJ"
      },
      "source": [
        "And the length"
      ]
    },
    {
      "cell_type": "code",
      "metadata": {
        "id": "7fPYmYpzbTg0"
      },
      "source": [
        "print(len(arr))"
      ],
      "execution_count": null,
      "outputs": []
    },
    {
      "cell_type": "markdown",
      "metadata": {
        "id": "oJE0P6OBbhm6"
      },
      "source": [
        "Let's explore the difference in time with a list vs a numpy array"
      ]
    },
    {
      "cell_type": "code",
      "metadata": {
        "id": "yAkLerGvbcPq"
      },
      "source": [
        "arr_list = list(range(10000))\n",
        "print(len(arr_list))"
      ],
      "execution_count": null,
      "outputs": []
    },
    {
      "cell_type": "markdown",
      "metadata": {
        "id": "gAmJhk6UcFgK"
      },
      "source": [
        "Let's look at the time when muliplying an array vs a list with a number:"
      ]
    },
    {
      "cell_type": "code",
      "metadata": {
        "id": "XdvEfE_Tbsh9"
      },
      "source": [
        "%time a = [x * 10 for x in arr_list]"
      ],
      "execution_count": null,
      "outputs": []
    },
    {
      "cell_type": "code",
      "metadata": {
        "id": "_Chqiobqb-hS"
      },
      "source": [
        "%time a = arr * 10"
      ],
      "execution_count": null,
      "outputs": []
    },
    {
      "cell_type": "markdown",
      "metadata": {
        "id": "cdq5CUF-clfg"
      },
      "source": [
        "Numpy arrays can also be multidimensional:"
      ]
    },
    {
      "cell_type": "code",
      "metadata": {
        "id": "_gzqNcZfcURa"
      },
      "source": [
        "arr = np.random.randn(4, 4)"
      ],
      "execution_count": null,
      "outputs": []
    },
    {
      "cell_type": "code",
      "metadata": {
        "id": "4_2LT4eOcsM5"
      },
      "source": [
        "arr"
      ],
      "execution_count": null,
      "outputs": []
    },
    {
      "cell_type": "markdown",
      "metadata": {
        "id": "eRxhTPCYczXW"
      },
      "source": [
        "This can also be multiplied, eg:"
      ]
    },
    {
      "cell_type": "code",
      "metadata": {
        "id": "Er9Mxh-rcsrk"
      },
      "source": [
        "arr * 3"
      ],
      "execution_count": null,
      "outputs": []
    },
    {
      "cell_type": "code",
      "metadata": {
        "id": "h2nrYegXc1HC"
      },
      "source": [
        "arr + arr"
      ],
      "execution_count": null,
      "outputs": []
    },
    {
      "cell_type": "markdown",
      "metadata": {
        "id": "8KxZKAnGdCUo"
      },
      "source": [
        "You can also select a single entry of the array, eg if we want the element in the first row, third column (remember counting starts from zero):"
      ]
    },
    {
      "cell_type": "code",
      "metadata": {
        "id": "FOt_L3Amc7V5"
      },
      "source": [
        "arr[0, 2]"
      ],
      "execution_count": null,
      "outputs": []
    },
    {
      "cell_type": "markdown",
      "metadata": {
        "id": "9A7WASMUdZ8S"
      },
      "source": [
        "Or we can choose a subset, using slicing.\n",
        "\n",
        "Let's choose the first two rows:"
      ]
    },
    {
      "cell_type": "code",
      "metadata": {
        "id": "IoJMaPl1dLD3"
      },
      "source": [
        "arr[0:2]"
      ],
      "execution_count": null,
      "outputs": []
    },
    {
      "cell_type": "markdown",
      "metadata": {
        "id": "gJhw1Vh6di81"
      },
      "source": [
        "or the middle elements of the first two rows:"
      ]
    },
    {
      "cell_type": "code",
      "metadata": {
        "id": "gLaqrP4PdcCc"
      },
      "source": [
        "arr[1:3, 1:3]"
      ],
      "execution_count": null,
      "outputs": []
    },
    {
      "cell_type": "markdown",
      "metadata": {
        "id": "EOCeNRVzfSV7"
      },
      "source": [
        "You can also index based on strings if the array is an array of strings, eg:\n"
      ]
    },
    {
      "cell_type": "code",
      "metadata": {
        "id": "Qblz8Y2FexBP"
      },
      "source": [
        "arr = np.array(['time', 'picatrix', 'sketch', 'magic', 'wizard'])"
      ],
      "execution_count": null,
      "outputs": []
    },
    {
      "cell_type": "code",
      "metadata": {
        "id": "jZ81iJVqfbZm"
      },
      "source": [
        "arr"
      ],
      "execution_count": null,
      "outputs": []
    },
    {
      "cell_type": "markdown",
      "metadata": {
        "id": "sXVzK6d5fjWX"
      },
      "source": [
        "To get a boolean array that can be used for filtering we construct a boolean query:"
      ]
    },
    {
      "cell_type": "code",
      "metadata": {
        "id": "-pEMKTaxfbnH"
      },
      "source": [
        "arr == 'time'"
      ],
      "execution_count": null,
      "outputs": []
    },
    {
      "cell_type": "code",
      "metadata": {
        "id": "Pomc1uC-fiKo"
      },
      "source": [
        "arr[arr == 'time']"
      ],
      "execution_count": null,
      "outputs": []
    },
    {
      "cell_type": "markdown",
      "metadata": {
        "id": "VRUWjGdff9n1"
      },
      "source": [
        "There are many more important properties of numpy arrays that we will not have time to cover in this very short introduction.\n",
        "\n",
        "### Pandas Series\n",
        "\n",
        "Let's move to talking about python pandas. The biggest difference between pandas and numpy is that pandas are designed to work with tabular data, think more of a spreadsheet or a database. \n",
        "\n",
        "Pandas defines two majore data structures, *Series* and *DataFrame*. A *Series* is a one-dimensional array-like object containing a sequence of values. An example can be:"
      ]
    },
    {
      "cell_type": "code",
      "metadata": {
        "id": "I3UgPNlVf0YA"
      },
      "source": [
        "pd.Series(['a', 'b', 'c', 'd', 'e'])"
      ],
      "execution_count": null,
      "outputs": []
    },
    {
      "cell_type": "markdown",
      "metadata": {
        "id": "yNfM1hlyhERy"
      },
      "source": [
        "Series can also have indexes or labels attached to each value (where they are then almost similar to a dict)"
      ]
    },
    {
      "cell_type": "code",
      "metadata": {
        "id": "8lidgpgHg9SY"
      },
      "source": [
        "ser = pd.Series(['a', 'b', 'c', 'd', 'e'], index=['foo', 'bar', 'more', 'note', 'extra'])"
      ],
      "execution_count": null,
      "outputs": []
    },
    {
      "cell_type": "code",
      "metadata": {
        "id": "BMbJ5jZFhR63"
      },
      "source": [
        "ser"
      ],
      "execution_count": null,
      "outputs": []
    },
    {
      "cell_type": "markdown",
      "metadata": {
        "id": "In-w1ThlhT8C"
      },
      "source": [
        "Now you can access each object using the dot notation or brackets"
      ]
    },
    {
      "cell_type": "code",
      "metadata": {
        "id": "6Izr7AAXhSN5"
      },
      "source": [
        "ser.foo"
      ],
      "execution_count": null,
      "outputs": []
    },
    {
      "cell_type": "code",
      "metadata": {
        "id": "t3VQoPMGhXLi"
      },
      "source": [
        "ser['foo']"
      ],
      "execution_count": null,
      "outputs": []
    },
    {
      "cell_type": "markdown",
      "metadata": {
        "id": "PzWerPoDhhyt"
      },
      "source": [
        "We can also convert a series object into a dict, or create a Series object from a dict:"
      ]
    },
    {
      "cell_type": "code",
      "metadata": {
        "id": "cCg7z1abhYJQ"
      },
      "source": [
        "ser.to_dict()"
      ],
      "execution_count": null,
      "outputs": []
    },
    {
      "cell_type": "code",
      "metadata": {
        "id": "wH8aU6nWhlcT"
      },
      "source": [
        "ser = pd.Series({\n",
        "    'stuff': 134,\n",
        "    'more': 11,\n",
        "    'notes': 'extra stuff'\n",
        "})"
      ],
      "execution_count": null,
      "outputs": []
    },
    {
      "cell_type": "code",
      "metadata": {
        "id": "2P_0z2mThqxn"
      },
      "source": [
        "ser"
      ],
      "execution_count": null,
      "outputs": []
    },
    {
      "cell_type": "code",
      "metadata": {
        "id": "eTRDk3Z2hrCt"
      },
      "source": [
        "ser.notes"
      ],
      "execution_count": null,
      "outputs": []
    },
    {
      "cell_type": "markdown",
      "metadata": {
        "id": "Ylk7eQpMhzI2"
      },
      "source": [
        "There are many built-in functions to [work with series](https://pandas.pydata.org/pandas-docs/stable/reference/series.html) that we will not have time to cover in this tutorial. But for the purpose of analyzing text data take special care of `str.contains` and `str.extract`, eg:"
      ]
    },
    {
      "cell_type": "code",
      "metadata": {
        "id": "44kRYRkOhsdA"
      },
      "source": [
        "ser.str.contains('stuff')"
      ],
      "execution_count": null,
      "outputs": []
    },
    {
      "cell_type": "code",
      "metadata": {
        "id": "kcVI8bVGhxhM"
      },
      "source": [
        "ser.str.extract(r' (s[^ $]+)')"
      ],
      "execution_count": null,
      "outputs": []
    },
    {
      "cell_type": "markdown",
      "metadata": {
        "id": "iqLjb0jbii3T"
      },
      "source": [
        "#### Pandas DataFrame\n",
        "\n",
        "A DataFrame, which is the object you may work with the most is a rectangular table of data and contains an ordered collection of columns. You can think off it as a dict of Series, all sharing the same index."
      ]
    },
    {
      "cell_type": "code",
      "metadata": {
        "id": "APoWxK2ziWjZ"
      },
      "source": [
        "lines = [\n",
        "    {'Important': True, 'Value': 1345, 'Notes': 'Stuff IS Stuff'},\n",
        "    {'Important': True, 'Value': 23, 'Notes': 'This does not contain any word...'},\n",
        "    {'Important': True, 'Value': 523, 'Notes': 'We have a lot of text in here, including stuff'},\n",
        "    {'Important': False, 'Value': 100, 'Notes': 'Here is a word that sounds like stuff but is in fact soooo much longer'},\n",
        "]\n",
        "\n",
        "df = pd.DataFrame(lines)"
      ],
      "execution_count": null,
      "outputs": []
    },
    {
      "cell_type": "code",
      "metadata": {
        "id": "pcgP17ZijMVl"
      },
      "source": [
        "df"
      ],
      "execution_count": null,
      "outputs": []
    },
    {
      "cell_type": "markdown",
      "metadata": {
        "id": "423eBp8ljQSI"
      },
      "source": [
        "We can start by looking at the size of the dataframe:"
      ]
    },
    {
      "cell_type": "code",
      "metadata": {
        "id": "hMkus1FsjMq0"
      },
      "source": [
        "df.shape"
      ],
      "execution_count": null,
      "outputs": []
    },
    {
      "cell_type": "markdown",
      "metadata": {
        "id": "YkaVVbXbjiFS"
      },
      "source": [
        "This tells us that it contains four rows and each row has three columns. Let's look at the first two columns:"
      ]
    },
    {
      "cell_type": "code",
      "metadata": {
        "id": "RYnnBhWSjhLh"
      },
      "source": [
        "df.head(2)"
      ],
      "execution_count": null,
      "outputs": []
    },
    {
      "cell_type": "markdown",
      "metadata": {
        "id": "0lDgZvUnjo4R"
      },
      "source": [
        "Or the last 2:"
      ]
    },
    {
      "cell_type": "code",
      "metadata": {
        "id": "7fsXphUhjn1j"
      },
      "source": [
        "df.tail(2)"
      ],
      "execution_count": null,
      "outputs": []
    },
    {
      "cell_type": "markdown",
      "metadata": {
        "id": "QK_ZlN85jsuI"
      },
      "source": [
        "We can also just look at the value of a single column:"
      ]
    },
    {
      "cell_type": "code",
      "metadata": {
        "id": "JWIO2GJFjqCO"
      },
      "source": [
        "df['Value']"
      ],
      "execution_count": null,
      "outputs": []
    },
    {
      "cell_type": "markdown",
      "metadata": {
        "id": "LYXYFJosjw4K"
      },
      "source": [
        "Which will give us back a Series object, that we can then use all Series operations on."
      ]
    },
    {
      "cell_type": "code",
      "metadata": {
        "id": "1de1V-6vjvje"
      },
      "source": [
        "df['Notes'].str.contains('stuff')"
      ],
      "execution_count": null,
      "outputs": []
    },
    {
      "cell_type": "markdown",
      "metadata": {
        "id": "_mUvyG_fj60x"
      },
      "source": [
        "We can then also use this filtering to filter out the rows in the dataframe. So to get only the rows that contain the word `stuff` we can do:"
      ]
    },
    {
      "cell_type": "code",
      "metadata": {
        "id": "djr3pexjj5ci"
      },
      "source": [
        "df[df['Notes'].str.contains('stuff')]"
      ],
      "execution_count": null,
      "outputs": []
    },
    {
      "cell_type": "markdown",
      "metadata": {
        "id": "0CIdIeh6kEVy"
      },
      "source": [
        "We can also filter out all the non important values:"
      ]
    },
    {
      "cell_type": "code",
      "metadata": {
        "id": "Rqk05S1jkBOT"
      },
      "source": [
        "df[df['Important']]"
      ],
      "execution_count": null,
      "outputs": []
    },
    {
      "cell_type": "markdown",
      "metadata": {
        "id": "EBXWxAvwkNUH"
      },
      "source": [
        "We can also assign values here:"
      ]
    },
    {
      "cell_type": "code",
      "metadata": {
        "id": "CETDs9CPkJj9"
      },
      "source": [
        "df['NewValue'] = 5452"
      ],
      "execution_count": null,
      "outputs": []
    },
    {
      "cell_type": "markdown",
      "metadata": {
        "id": "vQHi2nDxkR2I"
      },
      "source": [
        "This will apply to the entire dataframe:"
      ]
    },
    {
      "cell_type": "code",
      "metadata": {
        "id": "MFXb-CC4kQsN"
      },
      "source": [
        "df"
      ],
      "execution_count": null,
      "outputs": []
    },
    {
      "cell_type": "markdown",
      "metadata": {
        "id": "6c2SmdAOkz3H"
      },
      "source": [
        "You can also create values that contain parts of other columns"
      ]
    },
    {
      "cell_type": "code",
      "metadata": {
        "id": "4WICxNxgkt1C"
      },
      "source": [
        "df['message'] = df['Notes'] + ' --> ' + df['Important'].astype(str) + ' [' + df['Value'].astype(str) + ']'"
      ],
      "execution_count": null,
      "outputs": []
    },
    {
      "cell_type": "code",
      "metadata": {
        "id": "uk8nooCulEAr"
      },
      "source": [
        "df"
      ],
      "execution_count": null,
      "outputs": []
    },
    {
      "cell_type": "markdown",
      "metadata": {
        "id": "gU4yKcsTlMz2"
      },
      "source": [
        "We can also extract values from one string and assign it to another."
      ]
    },
    {
      "cell_type": "code",
      "metadata": {
        "id": "qyew0YKllJ-L"
      },
      "source": [
        "df['stuff'] = df['Notes'].str.extract(r'\\b([sS][^ $]+)')"
      ],
      "execution_count": null,
      "outputs": []
    },
    {
      "cell_type": "code",
      "metadata": {
        "id": "fj_08PzEldk4"
      },
      "source": [
        "df"
      ],
      "execution_count": null,
      "outputs": []
    },
    {
      "cell_type": "markdown",
      "metadata": {
        "id": "J62zj5RFd_D_"
      },
      "source": [
        "#### Counting And Unique Values"
      ]
    },
    {
      "cell_type": "markdown",
      "metadata": {
        "id": "RDeL8xK0mLxt"
      },
      "source": [
        "Another very useful property is the ability to summarize the data:"
      ]
    },
    {
      "cell_type": "code",
      "metadata": {
        "id": "gZ7GtpE4llmC"
      },
      "source": [
        "df['Important'].value_counts()"
      ],
      "execution_count": null,
      "outputs": []
    },
    {
      "cell_type": "markdown",
      "metadata": {
        "id": "uPseI0NemXua"
      },
      "source": [
        "Or finding all unique values of a column:"
      ]
    },
    {
      "cell_type": "code",
      "metadata": {
        "id": "kIKcekgxmRyj"
      },
      "source": [
        "df['Important'].unique()"
      ],
      "execution_count": null,
      "outputs": []
    },
    {
      "cell_type": "markdown",
      "metadata": {
        "id": "Pbu4ZMD9mfKB"
      },
      "source": [
        "There are also two built-in functions that provide an overview of the data:"
      ]
    },
    {
      "cell_type": "code",
      "metadata": {
        "id": "0vF8-N1bmanY"
      },
      "source": [
        "df.info()"
      ],
      "execution_count": null,
      "outputs": []
    },
    {
      "cell_type": "code",
      "metadata": {
        "id": "F7IR5VqAmiiU"
      },
      "source": [
        "df.describe()"
      ],
      "execution_count": null,
      "outputs": []
    },
    {
      "cell_type": "markdown",
      "metadata": {
        "id": "Y2KUly-gmv6K"
      },
      "source": [
        "#### Slicing a DataFrame\n",
        "\n",
        "A dataframe can be sliced by using boolean filters, eg:"
      ]
    },
    {
      "cell_type": "code",
      "metadata": {
        "id": "za34JRYRmjgn"
      },
      "source": [
        "df[df['Important']]"
      ],
      "execution_count": null,
      "outputs": []
    },
    {
      "cell_type": "markdown",
      "metadata": {
        "id": "gO94weGBm3q3"
      },
      "source": [
        "These can be combined to give more granular results:"
      ]
    },
    {
      "cell_type": "code",
      "metadata": {
        "id": "eOyuDIdUm28F"
      },
      "source": [
        "df[(df['Important']) & (df['Notes'].str.contains('stuff', case=False))]"
      ],
      "execution_count": null,
      "outputs": []
    },
    {
      "cell_type": "markdown",
      "metadata": {
        "id": "TTL_c8yYnFI7"
      },
      "source": [
        "The slices can be saved to further filter as well:"
      ]
    },
    {
      "cell_type": "code",
      "metadata": {
        "id": "igAOcOjcm_Ti"
      },
      "source": [
        "df_slice = df[(df['Important']) & (df['Notes'].str.contains('stuff', case=False))]\n",
        "\n",
        "df_slice[df_slice.Value > 1000]"
      ],
      "execution_count": null,
      "outputs": []
    },
    {
      "cell_type": "markdown",
      "metadata": {
        "id": "OYQ3hh7cnSUz"
      },
      "source": [
        "#### Direct Selection\n",
        "\n",
        "There are 2 main ways to retrieve subsets of a dataframe:\n",
        "\n",
        "+ `.iloc[]`\n",
        "+ `.loc[]`\n",
        "\n",
        "`.loc` is **label** based.\n",
        "`.iloc` is **position** based.\n",
        "\n",
        "Both of these can be used in 5 different ways:\n",
        "\n",
        "1. Single row\n",
        "2. List of rows\n",
        "3. Slice\n",
        "4. Boolean mask\n",
        "5. A function (providing the dataframe as input), which returns any of the above 4\n",
        "\n",
        "To get the first row of the dataframe use `iloc`\n"
      ]
    },
    {
      "cell_type": "code",
      "metadata": {
        "id": "HVQnkN3_nPvq"
      },
      "source": [
        "df.iloc[0]"
      ],
      "execution_count": null,
      "outputs": []
    },
    {
      "cell_type": "markdown",
      "metadata": {
        "id": "p4K_Fv3zeZlc"
      },
      "source": [
        "Or the first two rows:"
      ]
    },
    {
      "cell_type": "code",
      "metadata": {
        "id": "EYwfaRE_ebGZ"
      },
      "source": [
        "df.iloc[0:2]"
      ],
      "execution_count": null,
      "outputs": []
    },
    {
      "cell_type": "markdown",
      "metadata": {
        "id": "dtQYpwy8n2pj"
      },
      "source": [
        "`iloc` uses the integer position within the dataframe whereas `loc` uses labels as previously stated. In this case the label is also an integer."
      ]
    },
    {
      "cell_type": "code",
      "metadata": {
        "id": "OdBtTNYFnfn6"
      },
      "source": [
        "df.loc[2]"
      ],
      "execution_count": null,
      "outputs": []
    },
    {
      "cell_type": "markdown",
      "metadata": {
        "id": "iWD4EscCemMH"
      },
      "source": [
        "We can also pick a column"
      ]
    },
    {
      "cell_type": "code",
      "metadata": {
        "id": "zqy_6Scqn-Uq"
      },
      "source": [
        "df.loc[2:3, 'Value']"
      ],
      "execution_count": null,
      "outputs": []
    },
    {
      "cell_type": "markdown",
      "metadata": {
        "id": "1ECCCG1ooWUq"
      },
      "source": [
        "We can also change the labels here:"
      ]
    },
    {
      "cell_type": "code",
      "metadata": {
        "id": "uN7bz9Ybnwka"
      },
      "source": [
        "df['NewIndex'] = pd.Series(['A', 'B', 'C', 'D'])\n",
        "df.set_index('NewIndex', inplace=True)"
      ],
      "execution_count": null,
      "outputs": []
    },
    {
      "cell_type": "code",
      "metadata": {
        "id": "tEv1T0gPoVp7"
      },
      "source": [
        "df"
      ],
      "execution_count": null,
      "outputs": []
    },
    {
      "cell_type": "markdown",
      "metadata": {
        "id": "tkBg7NX6pNZW"
      },
      "source": [
        "Now we can use the new index"
      ]
    },
    {
      "cell_type": "code",
      "metadata": {
        "id": "snyjlQu3o43z"
      },
      "source": [
        "df.loc['B']"
      ],
      "execution_count": null,
      "outputs": []
    },
    {
      "cell_type": "markdown",
      "metadata": {
        "id": "qbQIEleDerZk"
      },
      "source": [
        "Or get a slice:"
      ]
    },
    {
      "cell_type": "code",
      "metadata": {
        "id": "xOokkpUEes7C"
      },
      "source": [
        "df.loc['B':'D']"
      ],
      "execution_count": null,
      "outputs": []
    },
    {
      "cell_type": "markdown",
      "metadata": {
        "id": "oXXrpwPmexEd"
      },
      "source": [
        "#### Sorting"
      ]
    },
    {
      "cell_type": "markdown",
      "metadata": {
        "id": "9viyEVVqpkEL"
      },
      "source": [
        "We can also sort the dataframe:"
      ]
    },
    {
      "cell_type": "code",
      "metadata": {
        "id": "9DrFwZUFpQld"
      },
      "source": [
        "df.sort_values('Value')"
      ],
      "execution_count": null,
      "outputs": []
    },
    {
      "cell_type": "markdown",
      "metadata": {
        "id": "P1EI7CsBp1uo"
      },
      "source": [
        "Or in ascending order:"
      ]
    },
    {
      "cell_type": "code",
      "metadata": {
        "id": "ZiCKC8ECp5ZP"
      },
      "source": [
        "df.sort_values('Value', ascending=False)"
      ],
      "execution_count": null,
      "outputs": []
    },
    {
      "cell_type": "markdown",
      "metadata": {
        "id": "E1O-Z8TWqAJe"
      },
      "source": [
        "#### Ranks\n",
        "\n",
        "Ranking assigns rank from one through the number of valid data points in an array."
      ]
    },
    {
      "cell_type": "code",
      "metadata": {
        "id": "P7E3HQCcpoXP"
      },
      "source": [
        "df.rank()"
      ],
      "execution_count": null,
      "outputs": []
    },
    {
      "cell_type": "markdown",
      "metadata": {
        "id": "ukPrYk3op_ex"
      },
      "source": [
        "Or rank by columns"
      ]
    },
    {
      "cell_type": "code",
      "metadata": {
        "id": "Q3VrGwgtqQo8"
      },
      "source": [
        "df.rank(axis='columns')"
      ],
      "execution_count": null,
      "outputs": []
    },
    {
      "cell_type": "markdown",
      "metadata": {
        "id": "4Pyk0MCkrAAh"
      },
      "source": [
        "If the values are numeric you can also summarize the values using functions like `sum`:"
      ]
    },
    {
      "cell_type": "code",
      "metadata": {
        "id": "0DUYWn_2qanN"
      },
      "source": [
        "df.Value.sum()"
      ],
      "execution_count": null,
      "outputs": []
    },
    {
      "cell_type": "code",
      "metadata": {
        "id": "KGhauNhLrJ2s"
      },
      "source": [
        "df.Value.mean()"
      ],
      "execution_count": null,
      "outputs": []
    },
    {
      "cell_type": "code",
      "metadata": {
        "id": "xWIcEbXlrRRG"
      },
      "source": [
        "df.Value.cumsum()"
      ],
      "execution_count": null,
      "outputs": []
    },
    {
      "cell_type": "markdown",
      "metadata": {
        "id": "N6GSZ-s1ru3e"
      },
      "source": [
        "### Reading in Data\n",
        "\n",
        "One of the most important parts of using pandas is to read the data in. If you don't have data then it's hard to work with it.\n",
        "\n",
        "Pandas provide a whole heap of methods of getting data, from connecting to SQL databases to spreadsheets to CSVs. This tutorial will only cover the most basics."
      ]
    },
    {
      "cell_type": "code",
      "metadata": {
        "id": "DKnd7-v6raWM"
      },
      "source": [
        "pd.read_*?"
      ],
      "execution_count": null,
      "outputs": []
    },
    {
      "cell_type": "markdown",
      "metadata": {
        "id": "SYCsqQQbsBNV"
      },
      "source": [
        "This will give you some overview of what functions are available. If you want to know more about a certain function type in `pd.read_excel?`\n",
        "\n",
        "Let's look at the most basic function, which is to read in a CSV file. Since we don't have a file, we will just generate a very basic one and then read it in."
      ]
    },
    {
      "cell_type": "code",
      "metadata": {
        "id": "LgPSXVuDr__n"
      },
      "source": [
        "import csv\n",
        "\n",
        "with open('/tmp/foobar.csv', 'w') as fw:\n",
        "  writer = csv.writer(fw)\n",
        "  writer.writerow(['First', 'Second', 'Third'])\n",
        "  writer.writerow([1, 2, 4])\n",
        "  writer.writerow([5, 3, 2])\n",
        "  writer.writerow([1, 3, 0])\n"
      ],
      "execution_count": null,
      "outputs": []
    },
    {
      "cell_type": "code",
      "metadata": {
        "id": "aevt-b6Es2W1"
      },
      "source": [
        "df = pd.read_csv('/tmp/foobar.csv')"
      ],
      "execution_count": null,
      "outputs": []
    },
    {
      "cell_type": "code",
      "metadata": {
        "id": "EuecQuB1tQD4"
      },
      "source": [
        "df"
      ],
      "execution_count": null,
      "outputs": []
    },
    {
      "cell_type": "markdown",
      "metadata": {
        "id": "YzC3zcRStWWz"
      },
      "source": [
        "If the CSV file is really large, the data can be read in chunks:"
      ]
    },
    {
      "cell_type": "code",
      "metadata": {
        "id": "Wp60-_XEtQiC"
      },
      "source": [
        "for chunk in pd.read_csv('/tmp/foobar.csv', chunksize=2):\n",
        "  print(chunk.shape)"
      ],
      "execution_count": null,
      "outputs": []
    },
    {
      "cell_type": "markdown",
      "metadata": {
        "id": "PwgLoIM3trxc"
      },
      "source": [
        "There are many more nuances in importing data that will not be covered in this basic tutorial. "
      ]
    },
    {
      "cell_type": "markdown",
      "metadata": {
        "id": "4zBfO20vuMyt"
      },
      "source": [
        "## Filling in Missing Data\n",
        "\n",
        "**TODO: Fill this out**"
      ]
    },
    {
      "cell_type": "code",
      "metadata": {
        "id": "EWh6JifKtj1s"
      },
      "source": [
        ""
      ],
      "execution_count": null,
      "outputs": []
    },
    {
      "cell_type": "markdown",
      "metadata": {
        "id": "CZZNovl5uTIC"
      },
      "source": [
        "## Manipulating the Data\n",
        "\n",
        "**TODO: Fill this out, add how to change values, use `.apply` and other functions to change values or add new columns**"
      ]
    },
    {
      "cell_type": "code",
      "metadata": {
        "id": "IcaZdvUoucFG"
      },
      "source": [
        ""
      ],
      "execution_count": null,
      "outputs": []
    }
  ]
}
